{
 "cells": [
  {
   "cell_type": "code",
   "execution_count": 2,
   "metadata": {},
   "outputs": [],
   "source": [
    "import cv2,os"
   ]
  },
  {
   "cell_type": "code",
   "execution_count": 3,
   "metadata": {},
   "outputs": [
    {
     "name": "stdout",
     "output_type": "stream",
     "text": [
      "{'without_mask': 0, 'with_mask': 1}\n",
      "['without_mask', 'with_mask']\n",
      "[0, 1]\n"
     ]
    }
   ],
   "source": [
    "data_path='dataset'\n",
    "categories=os.listdir(data_path)\n",
    "labels=[i for i in range(len(categories))]\n",
    "\n",
    "labels_dict=dict(zip(categories,labels))\n",
    "\n",
    "print(labels_dict)\n",
    "print(categories)\n",
    "print(labels)"
   ]
  },
  {
   "cell_type": "code",
   "execution_count": 4,
   "metadata": {},
   "outputs": [],
   "source": [
    "img_size=100\n",
    "data=[]\n",
    "target=[]\n",
    "\n",
    "for category in categories:\n",
    "    folder_path=os.path.join(data_path,category)\n",
    "    img_names=os.listdir(folder_path)\n",
    "    \n",
    "    for img_name in img_names:\n",
    "        img_path=os.path.join(folder_path,img_name)\n",
    "        img=cv2.imread(img_path)\n",
    "        \n",
    "        try:\n",
    "            gray=cv2.cvtColor(img,cv2.COLOR_BGR2GRAY)\n",
    "            resized=cv2.resize(gray,(img_size,img_size))\n",
    "            \n",
    "            data.append(resized)\n",
    "            target.append(labels_dict[category])\n",
    "        except Exception as e :\n",
    "            print('Exception :',e)"
   ]
  },
  {
   "cell_type": "code",
   "execution_count": 5,
   "metadata": {},
   "outputs": [],
   "source": [
    "import numpy as np \n",
    " \n",
    "data=np.array(data)/255.0\n",
    "data=np.reshape(data,(data.shape[0],img_size,img_size,1))\n",
    "target=np.array(target)"
   ]
  },
  {
   "cell_type": "code",
   "execution_count": 6,
   "metadata": {},
   "outputs": [
    {
     "name": "stderr",
     "output_type": "stream",
     "text": [
      "Using TensorFlow backend.\n"
     ]
    }
   ],
   "source": [
    "from keras.utils import np_utils\n",
    "new_target=np_utils.to_categorical(target)"
   ]
  },
  {
   "cell_type": "code",
   "execution_count": 7,
   "metadata": {},
   "outputs": [],
   "source": [
    "from keras.models import Sequential\n",
    "from keras.layers import Dense,Activation,Flatten,Dropout\n",
    "from keras.layers import Conv2D,MaxPooling2D\n",
    "\n",
    "model=Sequential()\n",
    "\n",
    "model.add(Conv2D(200,(3,3),input_shape=(data.shape[1:])))\n",
    "model.add(Activation('relu'))\n",
    "model.add(MaxPooling2D(pool_size=(2,2)))\n",
    "          \n",
    "model.add(Conv2D(100,(3,3)))\n",
    "model.add(Activation('relu'))\n",
    "model.add(MaxPooling2D(pool_size=(2,2)))\n",
    "\n",
    "model.add(Conv2D(50,(3,3)))\n",
    "model.add(Activation('relu'))\n",
    "model.add(MaxPooling2D(pool_size=(2,2)))\n",
    "\n",
    "model.add(Flatten())\n",
    "model.add(Dropout(0.5))\n",
    "                    \n",
    "model.add(Dense(50,activation='relu'))\n",
    "model.add(Dense(2,activation='softmax'))\n",
    "\n",
    "model.compile(loss='categorical_crossentropy',optimizer='adam',metrics=['accuracy'])"
   ]
  },
  {
   "cell_type": "code",
   "execution_count": 8,
   "metadata": {},
   "outputs": [],
   "source": [
    "from sklearn.model_selection import train_test_split\n",
    "\n",
    "X_train,X_test,y_train,y_test=train_test_split(data,new_target,test_size=0.3)"
   ]
  },
  {
   "cell_type": "code",
   "execution_count": 9,
   "metadata": {},
   "outputs": [
    {
     "name": "stdout",
     "output_type": "stream",
     "text": [
      "Train on 772 samples, validate on 332 samples\n",
      "Epoch 1/20\n",
      "772/772 [==============================] - 118s 152ms/step - loss: 0.6967 - accuracy: 0.5013 - val_loss: 0.6798 - val_accuracy: 0.6295\n",
      "Epoch 2/20\n",
      "772/772 [==============================] - 101s 130ms/step - loss: 0.6627 - accuracy: 0.5712 - val_loss: 0.5765 - val_accuracy: 0.7560\n",
      "Epoch 3/20\n",
      "772/772 [==============================] - 102s 131ms/step - loss: 0.5082 - accuracy: 0.7668 - val_loss: 0.3657 - val_accuracy: 0.8434\n",
      "Epoch 4/20\n",
      "772/772 [==============================] - 102s 132ms/step - loss: 0.4122 - accuracy: 0.8057 - val_loss: 0.4988 - val_accuracy: 0.7681\n",
      "Epoch 5/20\n",
      "772/772 [==============================] - 101s 131ms/step - loss: 0.3252 - accuracy: 0.8588 - val_loss: 0.3893 - val_accuracy: 0.8163\n",
      "Epoch 6/20\n",
      "772/772 [==============================] - 98s 128ms/step - loss: 0.2688 - accuracy: 0.8977 - val_loss: 0.2728 - val_accuracy: 0.8705\n",
      "Epoch 7/20\n",
      "772/772 [==============================] - 47s 61ms/step - loss: 0.2797 - accuracy: 0.8951 - val_loss: 0.3290 - val_accuracy: 0.8705\n",
      "Epoch 8/20\n",
      "772/772 [==============================] - 44s 57ms/step - loss: 0.2199 - accuracy: 0.9184 - val_loss: 0.2913 - val_accuracy: 0.8825\n",
      "Epoch 9/20\n",
      "772/772 [==============================] - 46s 59ms/step - loss: 0.1736 - accuracy: 0.9339 - val_loss: 0.2679 - val_accuracy: 0.8795\n",
      "Epoch 10/20\n",
      "772/772 [==============================] - 44s 57ms/step - loss: 0.1724 - accuracy: 0.9301 - val_loss: 0.2724 - val_accuracy: 0.8735\n",
      "Epoch 11/20\n",
      "772/772 [==============================] - 44s 58ms/step - loss: 0.1299 - accuracy: 0.9508 - val_loss: 0.2556 - val_accuracy: 0.8735\n",
      "Epoch 12/20\n",
      "772/772 [==============================] - 44s 57ms/step - loss: 0.1165 - accuracy: 0.9495 - val_loss: 0.3944 - val_accuracy: 0.8795\n",
      "Epoch 13/20\n",
      "772/772 [==============================] - 44s 57ms/step - loss: 0.1120 - accuracy: 0.9585 - val_loss: 0.2705 - val_accuracy: 0.8825\n",
      "Epoch 14/20\n",
      "772/772 [==============================] - 44s 58ms/step - loss: 0.1096 - accuracy: 0.9521 - val_loss: 0.3038 - val_accuracy: 0.8795\n",
      "Epoch 15/20\n",
      "772/772 [==============================] - 46s 60ms/step - loss: 0.0957 - accuracy: 0.9689 - val_loss: 0.2842 - val_accuracy: 0.8825\n",
      "Epoch 16/20\n",
      "772/772 [==============================] - 46s 60ms/step - loss: 0.0804 - accuracy: 0.9676 - val_loss: 0.3202 - val_accuracy: 0.8916\n",
      "Epoch 17/20\n",
      "772/772 [==============================] - 46s 60ms/step - loss: 0.0684 - accuracy: 0.9715 - val_loss: 0.3027 - val_accuracy: 0.8946\n",
      "Epoch 18/20\n",
      "772/772 [==============================] - 44s 56ms/step - loss: 0.0597 - accuracy: 0.9780 - val_loss: 0.3789 - val_accuracy: 0.8705\n",
      "Epoch 19/20\n",
      "772/772 [==============================] - 44s 57ms/step - loss: 0.0546 - accuracy: 0.9793 - val_loss: 0.3478 - val_accuracy: 0.8855\n",
      "Epoch 20/20\n",
      "772/772 [==============================] - 44s 57ms/step - loss: 0.0453 - accuracy: 0.9832 - val_loss: 0.3586 - val_accuracy: 0.8886\n"
     ]
    }
   ],
   "source": [
    "history=model.fit(X_train,y_train,epochs=20,validation_split=0.3)"
   ]
  },
  {
   "cell_type": "code",
   "execution_count": 11,
   "metadata": {},
   "outputs": [
    {
     "data": {
      "image/png": "[encoded data removed]",
      "text/plain": [
       "<Figure size 432x288 with 1 Axes>"
      ]
     },
     "metadata": {
      "needs_background": "light"
     },
     "output_type": "display_data"
    }
   ],
   "source": [
    "import matplotlib.pyplot as plt\n",
    "\n",
    "plt.plot(history.history['loss'],'r',label='training loss')\n",
    "plt.plot(history.history['val_loss'],label='validation loss')\n",
    "plt.xlabel('epochs')\n",
    "plt.ylabel('loss')\n",
    "plt.legend()\n",
    "plt.show()"
   ]
  },
  {
   "cell_type": "code",
   "execution_count": 12,
   "metadata": {},
   "outputs": [
    {
     "data": {
      "image/png": "[encoded data removed]",
      "text/plain": [
       "<Figure size 432x288 with 1 Axes>"
      ]
     },
     "metadata": {
      "needs_background": "light"
     },
     "output_type": "display_data"
    }
   ],
   "source": [
    "import matplotlib.pyplot as plt\n",
    "\n",
    "plt.plot(history.history['accuracy'],'r',label='training accuracy')\n",
    "plt.plot(history.history['val_accuracy'],label='validation accuracy')\n",
    "plt.xlabel('epochs')\n",
    "plt.ylabel('accuracy')\n",
    "plt.legend()\n",
    "plt.show()"
   ]
  },
  {
   "cell_type": "code",
   "execution_count": 14,
   "metadata": {},
   "outputs": [],
   "source": [
    "face_clsfr=cv2.CascadeClassifier('haarcascade_frontalface_default.xml')\n",
    "source=cv2.VideoCapture(0)\n",
    "\n",
    "labels_dict={0:'MASK ', 1:'NO_MASK'}\n",
    "color_dict={0: (255,255,0), 1: (50,50,50)}\n",
    "while(True):\n",
    "    _,img=source.read()\n",
    "    gray=cv2.cvtColor(img,cv2.COLOR_BGR2GRAY)\n",
    "    faces=face_clsfr.detectMultiScale(gray,1.3,5)\n",
    "    \n",
    "    for(x,y,w,h) in faces:\n",
    "        \n",
    "        face_img=gray[y:y+h,x:x+w]\n",
    "        resized=cv2.resize(face_img,(100,100))\n",
    "        resize=resized/255.0\n",
    "        reshaped=np.reshape(resized,(1,100,100,1))\n",
    "        result=model.predict(reshaped)\n",
    "        \n",
    "        label=np.argmax(result,axis=1)[0]\n",
    "        acc=round(np.max(result,axis=1)[0]*100,2)\n",
    "        \n",
    "        cv2.rectangle(img,(x,y),(x+w,y+h),color_dict[label],2)\n",
    "        cv2.rectangle(img,(x,y-40),(x+w,y),color_dict[label],-1)\n",
    "        cv2.putText(img,labels_dict[label]+\"   \",(x,y-10),cv2.FONT_HERSHEY_SIMPLEX,0.8,(255,255,255),2)\n",
    "        cv2.putText(img,str(acc),(x+100,y-10),cv2.FONT_HERSHEY_SIMPLEX,0.6,(255,0,255),2)\n",
    "        \n",
    "    cv2.imshow('LIVE',img)\n",
    "    key=cv2.waitKey(1)\n",
    "    \n",
    "    if(key==27):\n",
    "        break\n",
    "        \n",
    "cv2.destroyAllWindows()\n",
    "source.release()"
   ]
  },
  {
   "cell_type": "code",
   "execution_count": null,
   "metadata": {},
   "outputs": [],
   "source": []
  }
 ],
 "metadata": {
  "kernelspec": {
   "display_name": "Python 3",
   "language": "python",
   "name": "python3"
  },
  "language_info": {
   "codemirror_mode": {
    "name": "ipython",
    "version": 3
   },
   "file_extension": ".py",
   "mimetype": "text/x-python",
   "name": "python",
   "nbconvert_exporter": "python",
   "pygments_lexer": "ipython3",
   "version": "3.7.4"
  }
 },
 "nbformat": 4,
 "nbformat_minor": 2
}
